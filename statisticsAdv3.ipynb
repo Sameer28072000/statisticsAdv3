{
 "cells": [
  {
   "cell_type": "markdown",
   "id": "f384cfe1-9cc2-4479-98ba-119930008a17",
   "metadata": {},
   "source": [
    "Q1: What is Estimation Statistics? Explain point estimate and interval estimate."
   ]
  },
  {
   "cell_type": "code",
   "execution_count": null,
   "id": "57a20c0f-e979-4dd6-92b6-d7d693264d88",
   "metadata": {},
   "outputs": [],
   "source": [
    "Ans:-Estimation statistics is deals with the estimation of unknown population parameters based on sample data.\n",
    "\n",
    "      point estimate:-\n",
    "         A point estimate is a single value that is calculated from sample \n",
    "            data and is used to estimate an unknown population parameter.\n",
    "            \n",
    "    interval estimate:-   \n",
    "        An interval estimate provides a range of values within which the true population parameter is expected to fall."
   ]
  },
  {
   "cell_type": "markdown",
   "id": "97f812db-2796-4f04-8493-e3681ed46e20",
   "metadata": {},
   "source": [
    "Q2. Write a Python function to estimate the population mean using a sample mean and standard\n",
    "deviation."
   ]
  },
  {
   "cell_type": "code",
   "execution_count": 4,
   "id": "b9504be2-3a5d-4b30-a146-72f611a2a71e",
   "metadata": {},
   "outputs": [
    {
     "name": "stdout",
     "output_type": "stream",
     "text": [
      "Estimated Population Mean: 27\n",
      "Standard deviation: (25.726, 28.274)\n"
     ]
    }
   ],
   "source": [
    "import math\n",
    "\n",
    "def estimate_population_mean(sample_mean, sample_std_dev, sample_size):\n",
    "\n",
    "    std_error = sample_std_dev / math.sqrt(sample_size)\n",
    "    \n",
    "    margin_of_error = 1.96 * std_error \n",
    "    \n",
    "    lower_bound = sample_mean - margin_of_error\n",
    "    upper_bound = sample_mean + margin_of_error\n",
    "    \n",
    "    return sample_mean, (lower_bound, upper_bound)\n",
    "\n",
    "sample_mean = 27\n",
    "sample_std_dev = 6.5\n",
    "sample_size = 100\n",
    "\n",
    "estimated_mean, standard_deviation = estimate_population_mean(sample_mean, sample_std_dev, sample_size)\n",
    "\n",
    "print(\"Estimated Population Mean:\", estimated_mean)\n",
    "print(\"Standard deviation:\", standard_deviation)"
   ]
  },
  {
   "cell_type": "markdown",
   "id": "12308cd0-f12c-4eb6-9009-461c1e9370ed",
   "metadata": {},
   "source": [
    "Q3: What is Hypothesis testing? Why is it used? State the importance of Hypothesis testing."
   ]
  },
  {
   "cell_type": "code",
   "execution_count": null,
   "id": "0d6d85e5-820c-4108-b317-4f0b7d2b8e15",
   "metadata": {},
   "outputs": [],
   "source": [
    "Ans:-Hypothesis testing is a statistical procedure used to make inferences or\n",
    "       draw conclusions about a population based on sample data.\n",
    "    i.formulate the null-hypothesis(H0)\n",
    "      ii.formulating the alternative hypothesis(HA)\n",
    "        iii.collecting & analyzing data\n",
    "          iv.determine the significance level\n",
    "            v.apply a ststistical test\n",
    "              vi.make conclusion\n",
    "                \n",
    "        Importance of Hypothesis testing :\n",
    "            i.testing research hypothesis\n",
    "             ii.statistical inference\n",
    "                iii.decision making business & policy"
   ]
  },
  {
   "cell_type": "markdown",
   "id": "b0de0fa7-319e-4578-a2be-6de6f4868409",
   "metadata": {},
   "source": [
    "Q4. Create a hypothesis that states whether the average weight of male college students is greater than\n",
    "the average weight of female college students."
   ]
  },
  {
   "cell_type": "code",
   "execution_count": null,
   "id": "c84e70c8-a002-405c-966c-42c421759188",
   "metadata": {},
   "outputs": [],
   "source": [
    "Ans:-H0: male ≤ female--------H0 represents the null hypothesis.\n",
    "     HA: male > female--------HA represents the alternative hypothesis.\n",
    "    \n",
    "    male represents the population mean weight of male college students.\n",
    "     female represents the population mean weight of female college students. "
   ]
  },
  {
   "cell_type": "markdown",
   "id": "7cbdee83-4557-4290-bb20-9e2a5c4ab4c8",
   "metadata": {},
   "source": [
    "Q5. Write a Python script to conduct a hypothesis test on the difference between two population means,\n",
    "given a sample from each population."
   ]
  },
  {
   "cell_type": "code",
   "execution_count": 6,
   "id": "a31ca10c-66d9-4f8c-82e0-89c48b9bc89e",
   "metadata": {},
   "outputs": [
    {
     "name": "stdout",
     "output_type": "stream",
     "text": [
      "Test statistic: -3.05085107923876\n",
      "p-value: 0.01580059625057162\n",
      "Conclusion: Fail to reject the null hypothesis\n"
     ]
    }
   ],
   "source": [
    "import numpy as np\n",
    "from scipy.stats import t\n",
    "\n",
    "def two_sample_t_test(sample1, sample2, alpha):\n",
    "    n1 = len(sample1)\n",
    "    n2 = len(sample2)\n",
    "    mean1 = np.mean(sample1)\n",
    "    mean2 = np.mean(sample2)\n",
    "    var1 = np.var(sample1, ddof=1)\n",
    "    var2 = np.var(sample2, ddof=1)\n",
    "\n",
    "    pooled_var = ((n1 - 1) * var1 + (n2 - 1) * var2) / (n1 + n2 - 2)\n",
    "    t_stat = (mean1 - mean2) / np.sqrt(pooled_var * (1/n1 + 1/n2))\n",
    "\n",
    "    df = n1 + n2 - 2\n",
    "\n",
    "    critical_value = t.ppf(1 - alpha/2, df)\n",
    "\n",
    "    p_value = 2 * (1 - t.cdf(abs(t_stat), df))\n",
    "\n",
    "    if t_stat > critical_value:\n",
    "        conclusion = \"Reject the null hypothesis\"\n",
    "    else:\n",
    "        conclusion = \"Fail to reject the null hypothesis\"\n",
    "    return t_stat, p_value, conclusion\n",
    "\n",
    "sample1 = [45, 50, 55, 60, 65]\n",
    "sample2 = [64, 65, 66, 67, 68]\n",
    "alpha = 0.05\n",
    "\n",
    "t_stat, p_value, conclusion = two_sample_t_test(sample1, sample2, alpha)\n",
    "\n",
    "print(\"Test statistic:\", t_stat)\n",
    "print(\"p-value:\", p_value)\n",
    "print(\"Conclusion:\", conclusion)"
   ]
  },
  {
   "cell_type": "markdown",
   "id": "5ebe5532-384e-486a-82e2-f2ceca44676d",
   "metadata": {},
   "source": [
    "Q6: What is a null and alternative hypothesis? Give some examples."
   ]
  },
  {
   "cell_type": "code",
   "execution_count": null,
   "id": "9e6a7b6b-de34-4598-8925-c59620e3b0d8",
   "metadata": {},
   "outputs": [],
   "source": [
    "Ans:-Null Hypothesis (H0):\n",
    "       The null hypothesis represents the assumption or claim that is initially assumed to be true.\n",
    "        ex -----  \n",
    "           H0: The mean annual salary of Data Sceintist is equal to 9LPA.\n",
    "            \n",
    "    Alternative Hypothesis (HA):\n",
    "        The alternative hypothesis is reverse to the null hypothesis.\n",
    "        ex-----\n",
    "           HA: The mean annual salary of Data Scientist is greater than 20LPA."
   ]
  },
  {
   "cell_type": "markdown",
   "id": "f44301f6-3cea-4fca-97d7-6a0000e3e832",
   "metadata": {},
   "source": [
    "Q7: Write down the steps involved in hypothesis testing."
   ]
  },
  {
   "cell_type": "code",
   "execution_count": null,
   "id": "cf697339-4c39-49f9-8bc8-407714d76b2e",
   "metadata": {},
   "outputs": [],
   "source": [
    "Ans:-steps:\n",
    "      i.formulate the null & alternative hypothesis\n",
    "        ii.set the significance level\n",
    "          iii.select a statistical test\n",
    "            iv.collect the sample data\n",
    "              v.calculate the test statistic\n",
    "                vi.calculate p-value\n",
    "                  vii.make decision\n",
    "                    viii.result"
   ]
  },
  {
   "cell_type": "markdown",
   "id": "40a656d4-a2bc-4d96-8dfe-22902f86c230",
   "metadata": {},
   "source": [
    "Q8. Define p-value and explain its significance in hypothesis testing."
   ]
  },
  {
   "cell_type": "code",
   "execution_count": null,
   "id": "f92c188c-3775-4085-9511-ef700bd13361",
   "metadata": {},
   "outputs": [],
   "source": [
    "Ans:-The p-value is a measure of the evidence against the null hypothesis in hypothesis testing.\n",
    "       significance in hypothesis testing:\n",
    "        i.assessing statistical significance\n",
    "          ii.decision making\n",
    "            iii.comparing hypothesis\n",
    "              iv.interfret result"
   ]
  },
  {
   "cell_type": "markdown",
   "id": "4a035fe1-9ec3-4b4c-858e-af3b80ffbc06",
   "metadata": {},
   "source": [
    "Q9. Generate a Student's t-distribution plot using Python's matplotlib library, with the degrees of freedom\n",
    "parameter set to 10."
   ]
  },
  {
   "cell_type": "code",
   "execution_count": 10,
   "id": "1b4a1144-6263-44f8-83e2-a4061a735bb7",
   "metadata": {},
   "outputs": [
    {
     "data": {
      "image/png": "[encoded data removed]",
      "text/plain": [
       "<Figure size 640x480 with 1 Axes>"
      ]
     },
     "metadata": {},
     "output_type": "display_data"
    }
   ],
   "source": [
    "import numpy as np\n",
    "import matplotlib.pyplot as plt\n",
    "from scipy.stats import t\n",
    "\n",
    "df = 10\n",
    "\n",
    "x = np.linspace(-4, 4, 500)\n",
    "\n",
    "y = t.pdf(x, df)\n",
    "\n",
    "plt.plot(x, y, label=f\"t-distribution (df={df})\")\n",
    "plt.title(\"Student's t-distribution\")\n",
    "plt.xlabel(\"x\")\n",
    "plt.ylabel(\"Probability Density\")\n",
    "plt.legend()\n",
    "plt.show()"
   ]
  },
  {
   "cell_type": "markdown",
   "id": "53f1beef-b81f-4151-ab82-7779fae3ab44",
   "metadata": {},
   "source": [
    "Q10. Write a Python program to calculate the two-sample t-test for independent samples, given two\n",
    "random samples of equal size and a null hypothesis that the population means are equal."
   ]
  },
  {
   "cell_type": "code",
   "execution_count": 12,
   "id": "ef50eabe-4666-424c-8db2-e1b761eff8e2",
   "metadata": {},
   "outputs": [
    {
     "name": "stdout",
     "output_type": "stream",
     "text": [
      "Test statistic: 0.9486832980505139\n",
      "p-value: 0.3705550534526503\n",
      "Conclusion: Fail to reject the null hypothesis\n"
     ]
    }
   ],
   "source": [
    "import numpy as np\n",
    "from scipy.stats import t\n",
    "\n",
    "def two_sample_t_test(sample1, sample2):\n",
    "    n1 = len(sample1)\n",
    "    n2 = len(sample2)\n",
    "    mean1 = np.mean(sample1)\n",
    "    mean2 = np.mean(sample2)\n",
    "    var1 = np.var(sample1, ddof=1)\n",
    "    var2 = np.var(sample2, ddof=1)\n",
    "\n",
    "    pooled_std = np.sqrt(((n1 - 1) * var1 + (n2 - 1) * var2) / (n1 + n2 - 2))\n",
    "\n",
    "    t_stat = (mean1 - mean2) / (pooled_std * np.sqrt(1/n1 + 1/n2))\n",
    "\n",
    "    df = n1 + n2 - 2\n",
    "\n",
    "    p_value = 2 * (1 - t.cdf(abs(t_stat), df))\n",
    "\n",
    "    if p_value < 0.05:\n",
    "        conclusion = \"Reject the null hypothesis\"\n",
    "    else:\n",
    "        conclusion = \"Fail to reject the null hypothesis\"\n",
    "\n",
    "    return t_stat, p_value, conclusion\n",
    "\n",
    "sample1 = [8, 6, 5, 4, 6]\n",
    "sample2 = [6, 8, 4, 2, 3]\n",
    "\n",
    "t_stat, p_value, conclusion = two_sample_t_test(sample1, sample2)\n",
    "\n",
    "print(\"Test statistic:\", t_stat)\n",
    "print(\"p-value:\", p_value)\n",
    "print(\"Conclusion:\", conclusion)"
   ]
  },
  {
   "cell_type": "markdown",
   "id": "a20e9a76-14c3-42f9-9b40-4886f23490c4",
   "metadata": {},
   "source": [
    "Q11: What is Student’s t distribution? When to use the t-Distribution."
   ]
  },
  {
   "cell_type": "code",
   "execution_count": null,
   "id": "ef8c52b2-9e51-4087-a35c-36fd2b108ef1",
   "metadata": {},
   "outputs": [],
   "source": [
    "Ans:-Statistical Analysis using Z-score.we need population std. deviation(sigma).\n",
    "\n",
    "      When to use the t-Distribution:\n",
    "        i.when std.deviation is unknown\n",
    "          ii.when the sample size is small\n",
    "            iii.when dealing with outlier\n",
    "              iv.confidence interval"
   ]
  },
  {
   "cell_type": "markdown",
   "id": "02878c14-7402-4366-85af-2b868104799b",
   "metadata": {},
   "source": [
    "Q12: What is t-statistic? State the formula for t-statistic."
   ]
  },
  {
   "cell_type": "code",
   "execution_count": null,
   "id": "326d24e5-a55d-484c-9fd3-66214cee7d16",
   "metadata": {},
   "outputs": [],
   "source": [
    "Ans:-The t-statistic is a measure of how far the sample mean deviates from the hypothesized population mean, \n",
    "       relative to the variation within the sample.\n",
    "    \n",
    "    formula---\n",
    "         t = (x - mean) / (std.deviation / sq.root(n))\n",
    "        \n",
    "t ---t-statistic\n",
    "x --- sample mean\n",
    "mean --- hypothesized population mean under the null hypothesis\n",
    "std.deviation ----sample standard deviation\n",
    "n -----sample size"
   ]
  },
  {
   "cell_type": "markdown",
   "id": "84e2547d-3316-40f7-a241-0d7df024131a",
   "metadata": {},
   "source": [
    "Q13. A coffee shop owner wants to estimate the average daily revenue for their shop. They take a random\n",
    "sample of 50 days and find the sample mean revenue to be $500 with a standard deviation of $50.\n",
    "Estimate the population mean revenue with a 95% confidence interval."
   ]
  },
  {
   "cell_type": "code",
   "execution_count": null,
   "id": "781a37f9-05e1-4bc2-b810-e1b082583a26",
   "metadata": {},
   "outputs": [],
   "source": [
    "Ans:-\n",
    "Sample size (n) = 50\n",
    "Sample mean (x̄) = $500\n",
    "Sample standard deviation (s) = $50\n",
    "\n",
    "Confidence level = 95%\n",
    "Significance level (α) = 1 - confidence level = 0.05\n",
    "\n",
    "degrees of freedom (n - 1)=50-1=49\n",
    "\n",
    "t-table or a t-distribution calculator with 49 degrees of freedom and a confidence level of 95%, \n",
    "we find that the critical value is approximately 2.009."
   ]
  },
  {
   "cell_type": "markdown",
   "id": "5731ab6e-d748-4dd2-8a7f-7b86868d74cd",
   "metadata": {},
   "source": [
    "Q14. A researcher hypothesizes that a new drug will decrease blood pressure by 10 mmHg. They conduct a\n",
    "clinical trial with 100 patients and find that the sample mean decrease in blood pressure is 8 mmHg with a\n",
    "standard deviation of 3 mmHg. Test the hypothesis with a significance level of 0.05."
   ]
  },
  {
   "cell_type": "code",
   "execution_count": null,
   "id": "afc6efb9-11f2-4ae7-afef-2c934c4282b6",
   "metadata": {},
   "outputs": [],
   "source": [
    "Ans:-\n",
    "Sample size (n) = 100\n",
    "Sample mean decrease in blood pressure (x̄) = 8 mmHg\n",
    "Sample standard deviation (s) = 3 mmHg\n",
    "Hypothesized mean decrease in blood pressure (μ) = 10 mmHg\n",
    "Significance level (α) = 0.05\n",
    "\n",
    "Null hypothesis (H0): mean = 10\n",
    "Alternative hypothesis(HA)mean < 10\n",
    "\n",
    "To conduct the t-test formula\n",
    "t = (x̄ - μ) / (s / √n)\n",
    "\n",
    "Substituting the values:\n",
    "t = (8 - 10) / (3 / √100)\n",
    "t = -2 / 0.3\n",
    "t ≈ -6.67\n",
    "\n",
    "Next, we wll calculate the degrees of freedom (df) which is equal to the sample size minus 1:\n",
    "df = n - 1\n",
    "df = 100 - 1\n",
    "df = 99\n",
    "\n",
    "the critical value is approximately -1.66.\n",
    "    \n",
    "In this case, -6.67 < -1.66, so we reject the null hypothesis."
   ]
  },
  {
   "cell_type": "markdown",
   "id": "170f49b3-68ad-4138-aa09-5ead6022d23c",
   "metadata": {},
   "source": [
    "Q15. An electronics company produces a certain type of product with a mean weight of 5 pounds and a\n",
    "standard deviation of 0.5 pounds. A random sample of 25 products is taken, and the sample mean weight\n",
    "is found to be 4.8 pounds. Test the hypothesis that the true mean weight of the products is less than 5\n",
    "pounds with a significance level of 0.01."
   ]
  },
  {
   "cell_type": "code",
   "execution_count": null,
   "id": "8dced636-9ae1-43bb-a079-defdcf312ae7",
   "metadata": {},
   "outputs": [],
   "source": [
    "Ans:-\n",
    "Sample size (n) = 25\n",
    "Sample mean weight (x̄) = 4.8 pounds\n",
    "Population standard deviation (σ) = 0.5 pounds\n",
    "Hypothesized mean weight (μ) = 5 pounds\n",
    "Significance level (α) = 0.01\n",
    "dof=n-1=25-1=24\n",
    "\n",
    "Null hypothesis (H0): mean ≥ 5 \n",
    "Alternative hypothesis (Ha):mean < 5\n",
    "\n",
    "t-test formula:\n",
    "t = (x̄ - μ) / (σ / √n)\n",
    "\n",
    "Substituting the values:\n",
    "t = (4.8 - 5) / (0.5 / √25)\n",
    "t = -0.2 / 0.1\n",
    "t = -2\n",
    "\n",
    " the critical value for a significance level of 0.01 and 24 degrees of freedom is approximately -2.492.\n",
    "    \n",
    "In this case, -2 < -2.492, so we fail to reject the null hypothesis."
   ]
  },
  {
   "cell_type": "markdown",
   "id": "79197baa-863a-4873-8040-fc7cffa62cd1",
   "metadata": {},
   "source": [
    "Q16. Two groups of students are given different study materials to prepare for a test. The first group (n1 =\n",
    "30) has a mean score of 80 with a standard deviation of 10, and the second group (n2 = 40) has a mean\n",
    "score of 75 with a standard deviation of 8. Test the hypothesis that the population means for the two\n",
    "groups are equal with a significance level of 0.01."
   ]
  },
  {
   "cell_type": "code",
   "execution_count": null,
   "id": "f0fa7f65-5300-480a-82b3-0662efa0800c",
   "metadata": {},
   "outputs": [],
   "source": [
    "Ans:-\n",
    "First group sample size (n1) = 30\n",
    "First group sample mean score (x̄1) = 80\n",
    "First group sample standard deviation (s1) = 10\n",
    "\n",
    "Second group sample size (n2) = 40\n",
    "Second group sample mean score (x̄2) = 75\n",
    "Second group sample standard deviation (s2) = 8\n",
    "\n",
    "Significance level (α) = 0.01\n",
    "\n",
    "dof=n-1=30-1=29\n",
    "\n",
    "Null hypothesis (H0): mean1 = mean2 \n",
    "Alternative hypothesis (Ha): mean1 ≠ mean2 .\n",
    "\n",
    "To conduct the t-test formula:\n",
    "t = (x̄1 - x̄2) / √[(s1^2 / n1) + (s2^2 / n2)]\n",
    "\n",
    "Substituting the values:\n",
    "t = (80 - 75) / √[(10^2 / 30) + (8^2 / 40)]\n",
    "t = 5 / √[(100 / 30) + (64 / 40)]\n",
    "t = 5 / √(3.33 + 1.6)\n",
    "t = 5 / √4.93\n",
    "t = 5 / 2.22\n",
    "t = 2.25\n",
    "\n",
    "the critical value for a significance level of 0.01 and 29 degrees of freedom is approximately +-2.756.\n",
    "\n",
    "In this case, |2.25| < 2.756, so we fail to reject the null hypothesis."
   ]
  },
  {
   "cell_type": "markdown",
   "id": "4ea7d07a-5ce3-4754-aa3d-1ff483db07f3",
   "metadata": {},
   "source": [
    "Q17. A marketing company wants to estimate the average number of ads watched by viewers during a TV\n",
    "program. They take a random sample of 50 viewers and find that the sample mean is 4 with a standard\n",
    "deviation of 1.5. Estimate the population mean with a 99% confidence interval."
   ]
  },
  {
   "cell_type": "code",
   "execution_count": null,
   "id": "e9b449e7-840a-41ec-9541-634f91edd42e",
   "metadata": {},
   "outputs": [],
   "source": [
    "Ans:-\n",
    "Sample size (n) = 50\n",
    "Sample mean (x̄) = 4\n",
    "Sample standard deviation (s) = 1.5\n",
    "\n",
    "Confidence level = 99%\n",
    "Significance level (α) = 1 - confidence level = 0.01\n",
    "\n",
    "the critical value for a confidence level of 99% and 49 degrees of freedom is approximately 2.681.\n",
    "\n",
    "Next, we can calculate the margin of error (E) using the formula:\n",
    "E = t* * (s / √n)\n",
    "\n",
    "Substituting the values:\n",
    "E = 2.681 * (1.5 / √50) ≈ 0.6\n",
    "\n",
    "Now, we can construct the confidence interval:\n",
    "Confidence Interval = (x̄ - E, x̄ + E)\n",
    "\n",
    "Substituting the values:\n",
    "Confidence Interval = (4 - 0.6, 4 + 0.6)\n",
    "Confidence Interval ≈ (3.4, 4.6)"
   ]
  }
 ],
 "metadata": {
  "kernelspec": {
   "display_name": "Python 3 (ipykernel)",
   "language": "python",
   "name": "python3"
  },
  "language_info": {
   "codemirror_mode": {
    "name": "ipython",
    "version": 3
   },
   "file_extension": ".py",
   "mimetype": "text/x-python",
   "name": "python",
   "nbconvert_exporter": "python",
   "pygments_lexer": "ipython3",
   "version": "3.10.8"
  }
 },
 "nbformat": 4,
 "nbformat_minor": 5
}
